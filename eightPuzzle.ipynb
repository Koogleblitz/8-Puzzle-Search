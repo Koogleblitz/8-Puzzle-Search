{
 "cells": [
  {
   "cell_type": "code",
   "execution_count": 4,
   "metadata": {},
   "outputs": [
    {
     "name": "stdout",
     "output_type": "stream",
     "text": [
      "misplaced, manhattan:\n",
      "3 8\n"
     ]
    }
   ],
   "source": [
    "# Richard Tobing 862219395\n",
    "\n",
    "\n",
    "# Task List:\n",
    "    # [x] Misplaced Tiles heuristic: number of misplaced tiles\n",
    "    # [x] Manhattan heuristic: the number of moves each misplaced tile needs to take to get to the correct placement\n",
    "    # []  MAKE-QUEUE: takes in the initial state, and returnsn the frontier\n",
    "    # [] Problem obj: has OPERATORS, GOAL_TEST(), and INITIAL_STATE as fields\n",
    "    # [] REMOVE_FRONT(nodes): chooses one node from the frontier to process\n",
    "    # [] Uniform Cost Search: essentially equivalent to BFS since all moves only cost 1, basically a move counter\n",
    "\n",
    "\n",
    "\n",
    "# these are sample problems taken from Dr. Keogh's slides:\n",
    "sample=    [[3,2,8],\n",
    "            [4,5,6],\n",
    "            [7,1,0]]\n",
    "sampleD4=  [[1,2,3],\n",
    "            [5,0,6],\n",
    "            [4,7,8]]\n",
    "sample2=   [[1,2,3],\n",
    "            [4,5,8],\n",
    "            [6,7,0]]\n",
    "\n",
    "matrix= sample\n",
    "dim= len(matrix[0])\n",
    "squize= dim*dim\n",
    "\n",
    "\n",
    "\n",
    "\n",
    "def heuristic(matrix):\n",
    "    misplaced= 0\n",
    "    lindex= 0\n",
    "    manhattan= 0\n",
    "    tileType= 'default'\n",
    "    for y in range(dim):\n",
    "        for x in range(dim):\n",
    "            i = matrix[y][x]\n",
    "            lindex+= 1\n",
    "            if lindex != i:\n",
    "                dif= abs(i - lindex)\n",
    "                misplaced+= 1\n",
    "                if dif != squize:\n",
    "                    manhattan+= (dif//dim) + (dif%dim)\n",
    "    if matrix[dim-1][dim-1]==0:\n",
    "        misplaced-= 1\n",
    "    return misplaced, manhattan\n",
    "\n",
    "\n",
    "\n",
    "\n",
    "(misplaced,manhattan) = heuristic(matrix)\n",
    "print(\"misplaced, manhattan:\")\n",
    "print(misplaced, manhattan)\n",
    "\n",
    "\n",
    "\n",
    "\n",
    "# commmit 1: basic code for finding number of misplaced tiles\n",
    "# commit 2: build heuristic function that seems to correctly calculate the manhattan distance and the misplaced tiles"
   ]
  }
 ],
 "metadata": {
  "kernelspec": {
   "display_name": "Python 3.10.6 ('openCV': conda)",
   "language": "python",
   "name": "python3"
  },
  "language_info": {
   "codemirror_mode": {
    "name": "ipython",
    "version": 3
   },
   "file_extension": ".py",
   "mimetype": "text/x-python",
   "name": "python",
   "nbconvert_exporter": "python",
   "pygments_lexer": "ipython3",
   "version": "3.10.6"
  },
  "orig_nbformat": 4,
  "vscode": {
   "interpreter": {
    "hash": "4b7f63afb21c5875c346114972c32ed541b266b975de49e5c2fc583e9878752f"
   }
  }
 },
 "nbformat": 4,
 "nbformat_minor": 2
}
