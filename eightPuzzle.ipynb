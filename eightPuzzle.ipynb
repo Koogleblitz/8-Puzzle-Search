{
 "cells": [
  {
   "cell_type": "code",
   "execution_count": 61,
   "metadata": {},
   "outputs": [
    {
     "name": "stdout",
     "output_type": "stream",
     "text": [
      "3\n"
     ]
    }
   ],
   "source": [
    "# Richard Tobing 862219395\n",
    "\n",
    "# Task List:\n",
    "    # [] Misplaced Tiles heuristic: number of misplaced tiles\n",
    "    # [] Manhattan heuristic: the number of moves each misplaced tile needs to take to get to the correct placement\n",
    "    # [] Uniform Cost Search: essentially equivalent to BFS since all moves only cost 1, basically a move counter\n",
    "\n",
    "\n",
    "\n",
    "# these are sample problems taken from slides:\n",
    "sample=    [[3,2,8],\n",
    "            [4,5,6],\n",
    "            [7,1,0]]\n",
    "sampleD4=  [[1,2,3],\n",
    "            [5,0,6],\n",
    "            [4,7,8]]\n",
    "\n",
    "\n",
    "\n",
    "\n",
    "matrix= sample\n",
    "dim= len(matrix[0])\n",
    "square= dim*dim\n",
    "misplaced= 0\n",
    "squize= 0\n",
    "\n",
    "\n",
    "\n",
    "for y in range(dim):\n",
    "    for x in range(dim):\n",
    "        squize+= 1\n",
    "        if squize != matrix[y][x]:\n",
    "            misplaced+= 1\n",
    "if matrix[dim-1][dim-1]==0:\n",
    "    misplaced-= 1\n",
    "\n",
    "print(misplaced)\n",
    "\n",
    "# commmit 1: basic code for finding number of misplaced tiles"
   ]
  }
 ],
 "metadata": {
  "kernelspec": {
   "display_name": "Python 3.10.6 ('openCV': conda)",
   "language": "python",
   "name": "python3"
  },
  "language_info": {
   "codemirror_mode": {
    "name": "ipython",
    "version": 3
   },
   "file_extension": ".py",
   "mimetype": "text/x-python",
   "name": "python",
   "nbconvert_exporter": "python",
   "pygments_lexer": "ipython3",
   "version": "3.10.6"
  },
  "orig_nbformat": 4,
  "vscode": {
   "interpreter": {
    "hash": "4b7f63afb21c5875c346114972c32ed541b266b975de49e5c2fc583e9878752f"
   }
  }
 },
 "nbformat": 4,
 "nbformat_minor": 2
}
