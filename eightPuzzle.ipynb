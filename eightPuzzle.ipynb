{
 "cells": [
  {
   "cell_type": "code",
   "execution_count": 4,
   "metadata": {},
   "outputs": [
    {
     "name": "stdout",
     "output_type": "stream",
     "text": [
      "misplaced, manhattan:\n",
      "3 8\n"
     ]
    }
   ],
   "source": [
    "# Richard Tobing 862219395\n",
    "\n",
    "\n",
    "# Task List:\n",
    "    # [x] Misplaced Tiles heuristic: number of misplaced tiles\n",
    "    # [x] Manhattan heuristic: the number of moves each misplaced tile needs to take to get to the correct placement\n",
    "    # []  MAKE-QUEUE: takes in the initial state, and returnsn the frontier\n",
    "    # [] Problem obj: has OPERATORS, GOAL_TEST(), and INITIAL_STATE as fields\n",
    "    # [] REMOVE_FRONT(nodes): chooses one node from the frontier to process\n",
    "    # [] Uniform Cost Search: essentially equivalent to BFS since all moves only cost 1, basically a move counter\n",
    "\n",
    "\n",
    "\n",
    "# these are sample problems taken from Dr. Keogh's slides:\n",
    "sample=    [[3,2,8],\n",
    "            [4,5,6],\n",
    "            [7,1,0]]\n",
    "sampleD4=  [[1,2,3],\n",
    "            [5,0,6],\n",
    "            [4,7,8]]\n",
    "sample2=   [[1,2,3],\n",
    "            [4,5,8],\n",
    "            [6,7,0]]\n",
    "\n",
    "matrix= sample\n",
    "dim= len(matrix[0])\n",
    "squize= dim*dim\n",
    "\n",
    "\n",
    "\n",
    "\n",
    "def heuristic(matrix):\n",
    "    misplaced= 0\n",
    "    lindex= 0\n",
    "    manhattan= 0\n",
    "    zeroPos= (-1,-1)\n",
    "    for y in range(dim):\n",
    "        for x in range(dim):\n",
    "            i = matrix[y][x]\n",
    "            pos= (y,x)\n",
    "            lindex+= 1\n",
    "            if lindex != i:\n",
    "                dif= abs(i - lindex)\n",
    "                misplaced+= 1\n",
    "                if dif != squize:\n",
    "                    manhattan+= (dif//dim) + (dif%dim)\n",
    "            if i == 0:\n",
    "                zeroPos= pos\n",
    "    if matrix[dim-1][dim-1]==0:\n",
    "        misplaced-= 1\n",
    "    return misplaced, manhattan, zeroPos\n",
    "\n",
    "\n",
    "def makeQueue(matrix, zeroPos):\n",
    "    nodes= [[],[],[],[]]\n",
    "    if zeroPos== (0,0):\n",
    "        tmp= matrix[0][1]\n",
    "        matrix[0][1]= 0\n",
    "        matrix[0][0]= tmp\n",
    "    elif zeroPos== (dim-1,dim-1):\n",
    "        swap= matrix[dim-1][dim-2]\n",
    "        matrix[dim-1][dim-2]= 0\n",
    "        matrix[dim-1][dim-1]= swap\n",
    "        return matrix\n",
    "\n",
    "        \n",
    "\n",
    "\n",
    "\n",
    "\n",
    "\n",
    "\n",
    "# matrixAttr = heuristic(matrix)\n",
    "# print(\"misplaced, manhattan:\")\n",
    "# print(matrixAttr[0], matrixAttr[1], matrixAttr[2])\n",
    "\n",
    "print(makeQueue(matrix, heuristic(matrix)[2]))\n",
    "\n",
    "\n",
    "\n"
   ]
  }
 ],
 "metadata": {
  "kernelspec": {
   "display_name": "Python 3.9.7 ('base')",
   "language": "python",
   "name": "python3"
  },
  "language_info": {
   "codemirror_mode": {
    "name": "ipython",
    "version": 3
   },
   "file_extension": ".py",
   "mimetype": "text/x-python",
   "name": "python",
   "nbconvert_exporter": "python",
   "pygments_lexer": "ipython3",
   "version": "3.9.7"
  },
  "orig_nbformat": 4,
  "vscode": {
   "interpreter": {
    "hash": "d452713d07931529b46a6a4adbae9c48126cf3f4bc3a50be39ac3715dec6caaa"
   }
  }
 },
 "nbformat": 4,
 "nbformat_minor": 2
}
